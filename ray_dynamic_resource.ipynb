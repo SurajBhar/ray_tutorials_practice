{
 "cells": [
  {
   "cell_type": "code",
   "execution_count": 1,
   "metadata": {},
   "outputs": [],
   "source": [
    "import os\n",
    "import ray\n",
    "from ray import tune\n",
    "from ray.tune import Tuner, TuneConfig, with_resources\n",
    "from ray.tune.schedulers import ASHAScheduler\n",
    "import torch\n",
    "import torch.nn as nn\n",
    "import torch.optim as optim\n",
    "import torchvision\n",
    "from torchvision.datasets import ImageFolder\n",
    "import torch.nn.functional as F\n",
    "from sklearn.metrics import balanced_accuracy_score"
   ]
  },
  {
   "cell_type": "code",
   "execution_count": 2,
   "metadata": {},
   "outputs": [],
   "source": [
    "# Constants\n",
    "EPOCHS = 10\n",
    "CLASSES = 10  # Assume 10 classes for the StateFarm dataset"
   ]
  },
  {
   "cell_type": "code",
   "execution_count": 3,
   "metadata": {},
   "outputs": [],
   "source": [
    "def define_model(use_gpu):\n",
    "    \"\"\"\n",
    "    Defines the pretrained ViT_B_16 model with a modified last linear layer and frozen base layers.\n",
    "    \"\"\"\n",
    "    pretrained_weights = torchvision.models.ViT_B_16_Weights.DEFAULT\n",
    "    model = torchvision.models.vit_b_16(weights=pretrained_weights)\n",
    "    \n",
    "    # Freeze all parameters\n",
    "    for param in model.parameters():\n",
    "        param.requires_grad = False\n",
    "\n",
    "    # Modify the classifier for the target dataset\n",
    "    # model.heads = nn.Linear(model.heads.in_features, CLASSES)\n",
    "    model.heads = nn.Linear(in_features=768, out_features=CLASSES)\n",
    "    return model, pretrained_weights.transforms()"
   ]
  },
  {
   "cell_type": "code",
   "execution_count": 4,
   "metadata": {},
   "outputs": [],
   "source": [
    "def get_data_loaders(transform):\n",
    "    \"\"\"\n",
    "    Creates the train and validation dataloaders.\n",
    "    \"\"\"\n",
    "    train_dir = \"/home/sur06423/wacv_paper/wacv_paper/data/imbalanced_v2/train\"\n",
    "    val_dir = \"/home/sur06423/wacv_paper/wacv_paper/data/imbalanced_v2/validation\"\n",
    "    \n",
    "    trainset = ImageFolder(root=train_dir, transform=transform)\n",
    "    train_loader = torch.utils.data.DataLoader(trainset, batch_size=1024, shuffle=True)\n",
    "    valset = ImageFolder(root=val_dir, transform=transform)\n",
    "    val_loader = torch.utils.data.DataLoader(valset, batch_size=1024, shuffle=True)\n",
    "\n",
    "    return train_loader, val_loader"
   ]
  },
  {
   "cell_type": "code",
   "execution_count": 5,
   "metadata": {},
   "outputs": [],
   "source": [
    "def train_model(model, optimizer, train_loader, device):\n",
    "    model.train()\n",
    "    total_loss = 0\n",
    "    total_correct = 0\n",
    "    for inputs, labels in train_loader:\n",
    "        inputs, labels = inputs.to(device), labels.to(device)\n",
    "        optimizer.zero_grad()\n",
    "        outputs = model(inputs)\n",
    "        loss = F.cross_entropy(outputs, labels)\n",
    "        loss.backward()\n",
    "        optimizer.step()\n",
    "        total_loss += loss.item() * inputs.size(0)\n",
    "        _, predicted = torch.max(outputs, 1)\n",
    "        total_correct += (predicted == labels).sum().item()\n",
    "    return total_loss / len(train_loader.dataset), total_correct / len(train_loader.dataset)\n",
    "\n",
    "def validate_model(model, val_loader, device):\n",
    "    model.eval()\n",
    "    total_loss = 0\n",
    "    total_correct = 0\n",
    "    with torch.no_grad():\n",
    "        for inputs, labels in val_loader:\n",
    "            inputs, labels = inputs.to(device), labels.to(device)\n",
    "            outputs = model(inputs)\n",
    "            loss = F.cross_entropy(outputs, labels)\n",
    "            total_loss += loss.item() * inputs.size(0)\n",
    "            _, predicted = torch.max(outputs, 1)\n",
    "            total_correct += (predicted == labels).sum().item()\n",
    "    return total_loss / len(val_loader.dataset), total_correct / len(val_loader.dataset)\n"
   ]
  },
  {
   "cell_type": "code",
   "execution_count": 6,
   "metadata": {},
   "outputs": [],
   "source": [
    "class TrainViT(tune.Trainable):\n",
    "    def setup(self, config):\n",
    "        self.device = torch.device(\"cuda\" if torch.cuda.is_available() and config.get(\"use_gpu\", False) else \"cpu\")\n",
    "        self.model, transforms = define_model(config.get(\"use_gpu\", False))\n",
    "        self.model.to(self.device)\n",
    "        self.train_loader, self.val_loader = get_data_loaders(transforms)\n",
    "        self.optimizer = optim.SGD(self.model.parameters(), lr=config[\"lr\"], momentum=config[\"momentum\"])\n",
    "\n",
    "    def step(self):\n",
    "        train_loss, train_acc = train_model(self.model, self.optimizer, self.train_loader, self.device)\n",
    "        val_loss, val_acc = validate_model(self.model, self.val_loader, self.device)\n",
    "        return {\"loss\": train_loss, \"accuracy\": train_acc, \"val_loss\": val_loss, \"val_acc\": val_acc}\n",
    "\n",
    "    def save_checkpoint(self, checkpoint_dir):\n",
    "        path = os.path.join(checkpoint_dir, \"checkpoint\")\n",
    "        torch.save({\n",
    "            \"model_state_dict\": self.model.state_dict(),\n",
    "            \"optimizer_state_dict\": self.optimizer.state_dict(),\n",
    "        }, path)\n",
    "        return checkpoint_dir\n",
    "\n",
    "    def load_checkpoint(self, checkpoint_dir):\n",
    "        checkpoint_path = os.path.join(checkpoint_dir, \"model.pth\")\n",
    "        checkpoint = torch.load(checkpoint_path)\n",
    "        self.model.load_state_dict(checkpoint[\"model_state_dict\"])\n",
    "        self.optimizer.load_state_dict(checkpoint[\"optimizer_state_dict\"])"
   ]
  },
  {
   "cell_type": "code",
   "execution_count": 7,
   "metadata": {},
   "outputs": [],
   "source": [
    "N_TRIALS = 8\n",
    "# ASHA Scheduler for early stopping\n",
    "scheduler = ASHAScheduler(\n",
    "    metric=\"val_acc\",\n",
    "    mode=\"max\",\n",
    "    max_t=EPOCHS,\n",
    "    grace_period=5,\n",
    "    reduction_factor=2\n",
    ")\n",
    "\n",
    "# Configuration for hyperparameters\n",
    "config = {\n",
    "    \"lr\": tune.loguniform(1e-4, 1e-1),\n",
    "    \"momentum\": tune.uniform(0.8, 0.99),\n",
    "    \"use_gpu\": True  # This can be dynamically adjusted if some trials should not use a GPU\n",
    "}\n",
    "\n",
    "# Setting up the Tuner with dynamic resource allocation\n",
    "trainable_with_resources = with_resources(\n",
    "    TrainViT,\n",
    "    resources=lambda config: {\"gpu\": 1, \"cpu\": 2} if config.get(\"use_gpu\", False) else {\"cpu\": 2}\n",
    ")\n",
    "\n",
    "tune_config = TuneConfig(\n",
    "    num_samples=N_TRIALS,\n",
    "    max_concurrent_trials=4  # Adjust based on the number of available GPUs\n",
    ")\n",
    "\n",
    "\"\"\" \n",
    "checkpoint_config = ray.train.CheckpointConfig(num_to_keep: int | None = None, \n",
    "                                               checkpoint_score_attribute: str | None = None, \n",
    "                                               checkpoint_score_order: str | None = 'max', \n",
    "                                               checkpoint_frequency: int | None = 0, \n",
    "                                               checkpoint_at_end: bool | None = None, \n",
    "                                               _checkpoint_keep_all_ranks: bool | None = 'DEPRECATED', \n",
    "                                               _checkpoint_upload_from_workers: bool | None = 'DEPRECATED')\n",
    "\"\"\"\n",
    "\n",
    "run_config = ray.train.RunConfig(name=\"Dynamic_Trial_Exp_1\",\n",
    "                                 storage_path=\"/home/sur06423/wacv_paper/wacv_paper/ray_results\",\n",
    "                                 stop={\"training_iteration\": 5},\n",
    "                                 checkpoint_config=ray.train.CheckpointConfig(checkpoint_frequency=2, checkpoint_at_end=True),\n",
    "                                 # checpoint_config = checkpoint_config\n",
    ")\n"
   ]
  },
  {
   "cell_type": "code",
   "execution_count": 8,
   "metadata": {},
   "outputs": [
    {
     "name": "stderr",
     "output_type": "stream",
     "text": [
      "2024-10-23 13:55:26,504\tINFO worker.py:1777 -- Started a local Ray instance. View the dashboard at \u001b[1m\u001b[32m127.0.0.1:8267 \u001b[39m\u001b[22m\n"
     ]
    },
    {
     "data": {
      "application/vnd.jupyter.widget-view+json": {
       "model_id": "fef18c0b6a4546cda778fd40ae158f91",
       "version_major": 2,
       "version_minor": 0
      },
      "text/html": [
       "<div class=\"lm-Widget p-Widget lm-Panel p-Panel jp-Cell-outputWrapper\">\n",
       "    <div style=\"margin-left: 50px;display: flex;flex-direction: row;align-items: center\">\n",
       "        <div class=\"jp-RenderedHTMLCommon\" style=\"display: flex; flex-direction: row;\">\n",
       "  <svg viewBox=\"0 0 567 224\" fill=\"none\" xmlns=\"http://www.w3.org/2000/svg\" style=\"height: 3em;\">\n",
       "    <g clip-path=\"url(#clip0_4338_178347)\">\n",
       "        <path d=\"M341.29 165.561H355.29L330.13 129.051C345.63 123.991 354.21 112.051 354.21 94.2307C354.21 71.3707 338.72 58.1807 311.88 58.1807H271V165.561H283.27V131.661H311.8C314.25 131.661 316.71 131.501 319.01 131.351L341.25 165.561H341.29ZM283.29 119.851V70.0007H311.82C331.3 70.0007 342.34 78.2907 342.34 94.5507C342.34 111.271 331.34 119.861 311.82 119.861L283.29 119.851ZM451.4 138.411L463.4 165.561H476.74L428.74 58.1807H416L367.83 165.561H380.83L392.83 138.411H451.4ZM446.19 126.601H398L422 72.1407L446.24 126.601H446.19ZM526.11 128.741L566.91 58.1807H554.35L519.99 114.181L485.17 58.1807H472.44L514.01 129.181V165.541H526.13V128.741H526.11Z\" fill=\"var(--jp-ui-font-color0)\"/>\n",
       "        <path d=\"M82.35 104.44C84.0187 97.8827 87.8248 92.0678 93.1671 87.9146C98.5094 83.7614 105.083 81.5067 111.85 81.5067C118.617 81.5067 125.191 83.7614 130.533 87.9146C135.875 92.0678 139.681 97.8827 141.35 104.44H163.75C164.476 101.562 165.622 98.8057 167.15 96.2605L127.45 56.5605C121.071 60.3522 113.526 61.6823 106.235 60.3005C98.9443 58.9187 92.4094 54.9203 87.8602 49.0574C83.3109 43.1946 81.0609 35.8714 81.5332 28.4656C82.0056 21.0599 85.1679 14.0819 90.4252 8.8446C95.6824 3.60726 102.672 0.471508 110.08 0.0272655C117.487 -0.416977 124.802 1.86091 130.647 6.4324C136.493 11.0039 140.467 17.5539 141.821 24.8501C143.175 32.1463 141.816 39.6859 138 46.0505L177.69 85.7505C182.31 82.9877 187.58 81.4995 192.962 81.4375C198.345 81.3755 203.648 82.742 208.33 85.3976C213.012 88.0532 216.907 91.9029 219.616 96.5544C222.326 101.206 223.753 106.492 223.753 111.875C223.753 117.258 222.326 122.545 219.616 127.197C216.907 131.848 213.012 135.698 208.33 138.353C203.648 141.009 198.345 142.375 192.962 142.313C187.58 142.251 182.31 140.763 177.69 138L138 177.7C141.808 184.071 143.155 191.614 141.79 198.91C140.424 206.205 136.44 212.75 130.585 217.313C124.731 221.875 117.412 224.141 110.004 223.683C102.596 223.226 95.6103 220.077 90.3621 214.828C85.1139 209.58 81.9647 202.595 81.5072 195.187C81.0497 187.779 83.3154 180.459 87.878 174.605C92.4405 168.751 98.9853 164.766 106.281 163.401C113.576 162.035 121.119 163.383 127.49 167.19L167.19 127.49C165.664 124.941 164.518 122.182 163.79 119.3H141.39C139.721 125.858 135.915 131.673 130.573 135.826C125.231 139.98 118.657 142.234 111.89 142.234C105.123 142.234 98.5494 139.98 93.2071 135.826C87.8648 131.673 84.0587 125.858 82.39 119.3H60C58.1878 126.495 53.8086 132.78 47.6863 136.971C41.5641 141.163 34.1211 142.972 26.7579 142.059C19.3947 141.146 12.6191 137.574 7.70605 132.014C2.79302 126.454 0.0813599 119.29 0.0813599 111.87C0.0813599 104.451 2.79302 97.2871 7.70605 91.7272C12.6191 86.1673 19.3947 82.5947 26.7579 81.6817C34.1211 80.7686 41.5641 82.5781 47.6863 86.7696C53.8086 90.9611 58.1878 97.2456 60 104.44H82.35ZM100.86 204.32C103.407 206.868 106.759 208.453 110.345 208.806C113.93 209.159 117.527 208.258 120.522 206.256C123.517 204.254 125.725 201.276 126.771 197.828C127.816 194.38 127.633 190.677 126.253 187.349C124.874 184.021 122.383 181.274 119.205 179.577C116.027 177.88 112.359 177.337 108.826 178.042C105.293 178.746 102.113 180.654 99.8291 183.44C97.5451 186.226 96.2979 189.718 96.3 193.32C96.2985 195.364 96.7006 197.388 97.4831 199.275C98.2656 201.163 99.4132 202.877 100.86 204.32ZM204.32 122.88C206.868 120.333 208.453 116.981 208.806 113.396C209.159 109.811 208.258 106.214 206.256 103.219C204.254 100.223 201.275 98.0151 197.827 96.97C194.38 95.9249 190.676 96.1077 187.348 97.4873C184.02 98.8669 181.274 101.358 179.577 104.536C177.879 107.714 177.337 111.382 178.041 114.915C178.746 118.448 180.653 121.627 183.439 123.911C186.226 126.195 189.717 127.443 193.32 127.44C195.364 127.443 197.388 127.042 199.275 126.259C201.163 125.476 202.878 124.328 204.32 122.88ZM122.88 19.4205C120.333 16.8729 116.981 15.2876 113.395 14.9347C109.81 14.5817 106.213 15.483 103.218 17.4849C100.223 19.4868 98.0146 22.4654 96.9696 25.9131C95.9245 29.3608 96.1073 33.0642 97.4869 36.3922C98.8665 39.7202 101.358 42.4668 104.535 44.1639C107.713 45.861 111.381 46.4036 114.914 45.6992C118.447 44.9949 121.627 43.0871 123.911 40.301C126.195 37.515 127.442 34.0231 127.44 30.4205C127.44 28.3772 127.038 26.3539 126.255 24.4664C125.473 22.5788 124.326 20.8642 122.88 19.4205ZM19.42 100.86C16.8725 103.408 15.2872 106.76 14.9342 110.345C14.5813 113.93 15.4826 117.527 17.4844 120.522C19.4863 123.518 22.4649 125.726 25.9127 126.771C29.3604 127.816 33.0638 127.633 36.3918 126.254C39.7198 124.874 42.4664 122.383 44.1635 119.205C45.8606 116.027 46.4032 112.359 45.6988 108.826C44.9944 105.293 43.0866 102.114 40.3006 99.8296C37.5145 97.5455 34.0227 96.2983 30.42 96.3005C26.2938 96.3018 22.337 97.9421 19.42 100.86ZM100.86 100.86C98.3125 103.408 96.7272 106.76 96.3742 110.345C96.0213 113.93 96.9226 117.527 98.9244 120.522C100.926 123.518 103.905 125.726 107.353 126.771C110.8 127.816 114.504 127.633 117.832 126.254C121.16 124.874 123.906 122.383 125.604 119.205C127.301 116.027 127.843 112.359 127.139 108.826C126.434 105.293 124.527 102.114 121.741 99.8296C118.955 97.5455 115.463 96.2983 111.86 96.3005C109.817 96.299 107.793 96.701 105.905 97.4835C104.018 98.2661 102.303 99.4136 100.86 100.86Z\" fill=\"#00AEEF\"/>\n",
       "    </g>\n",
       "    <defs>\n",
       "        <clipPath id=\"clip0_4338_178347\">\n",
       "            <rect width=\"566.93\" height=\"223.75\" fill=\"white\"/>\n",
       "        </clipPath>\n",
       "    </defs>\n",
       "  </svg>\n",
       "</div>\n",
       "\n",
       "        <table class=\"jp-RenderedHTMLCommon\" style=\"border-collapse: collapse;color: var(--jp-ui-font-color1);font-size: var(--jp-ui-font-size1);\">\n",
       "    <tr>\n",
       "        <td style=\"text-align: left\"><b>Python version:</b></td>\n",
       "        <td style=\"text-align: left\"><b>3.10.12</b></td>\n",
       "    </tr>\n",
       "    <tr>\n",
       "        <td style=\"text-align: left\"><b>Ray version:</b></td>\n",
       "        <td style=\"text-align: left\"><b>2.37.0</b></td>\n",
       "    </tr>\n",
       "    <tr>\n",
       "    <td style=\"text-align: left\"><b>Dashboard:</b></td>\n",
       "    <td style=\"text-align: left\"><b><a href=\"http://127.0.0.1:8267\" target=\"_blank\">http://127.0.0.1:8267</a></b></td>\n",
       "</tr>\n",
       "\n",
       "</table>\n",
       "\n",
       "    </div>\n",
       "</div>\n"
      ],
      "text/plain": [
       "RayContext(dashboard_url='127.0.0.1:8267', python_version='3.10.12', ray_version='2.37.0', ray_commit='1b620f244c4fb67d80661046091573fb6eefecb6')"
      ]
     },
     "execution_count": 8,
     "metadata": {},
     "output_type": "execute_result"
    }
   ],
   "source": [
    "# Initialize Ray\n",
    "ray.shutdown()\n",
    "ray.init(num_cpus=24, num_gpus=4, include_dashboard=True, dashboard_port=8267)  # Explicitly set the number of GPUs"
   ]
  },
  {
   "cell_type": "code",
   "execution_count": 9,
   "metadata": {},
   "outputs": [
    {
     "name": "stdout",
     "output_type": "stream",
     "text": [
      "{'CPU': 24.0, 'node:__internal_head__': 1.0, 'memory': 362998148096.0, 'object_store_memory': 159856349184.0, 'GPU': 4.0, 'node:10.56.7.46': 1.0}\n"
     ]
    }
   ],
   "source": [
    "print(ray.available_resources())"
   ]
  },
  {
   "cell_type": "code",
   "execution_count": 10,
   "metadata": {},
   "outputs": [
    {
     "name": "stdout",
     "output_type": "stream",
     "text": [
      "Updated LD_LIBRARY_PATH:\n",
      "/usr/lib/xorg-nvidia-525.116.04/lib/x86_64-linux-gnu:/usr/lib/xorg/lib/x86_64-linux-gnu:/usr/lib/xorg-nvidia-535.113.01/lib/x86_64-linux-gnu:\n"
     ]
    }
   ],
   "source": [
    "# Define the directories to be added to LD_LIBRARY_PATH\n",
    "library_paths = [\n",
    "    \"/usr/lib/xorg-nvidia-525.116.04/lib/x86_64-linux-gnu\",\n",
    "    \"/usr/lib/xorg/lib/x86_64-linux-gnu\",\n",
    "    \"/usr/lib/xorg-nvidia-535.113.01/lib/x86_64-linux-gnu\"\n",
    "]\n",
    "\n",
    "# Current LD_LIBRARY_PATH from the environment\n",
    "current_ld_library_path = os.environ.get('LD_LIBRARY_PATH', '')\n",
    "\n",
    "# Adding each path only if it is not already in the LD_LIBRARY_PATH\n",
    "new_paths = [path for path in library_paths if path not in current_ld_library_path]\n",
    "\n",
    "# Join all new paths with the existing LD_LIBRARY_PATH\n",
    "os.environ['LD_LIBRARY_PATH'] = ':'.join(new_paths + [current_ld_library_path])\n",
    "\n",
    "# Verify the update\n",
    "print(\"Updated LD_LIBRARY_PATH:\")\n",
    "print(os.environ['LD_LIBRARY_PATH'])"
   ]
  },
  {
   "cell_type": "code",
   "execution_count": 11,
   "metadata": {},
   "outputs": [
    {
     "data": {
      "text/html": [],
      "text/plain": [
       "<IPython.core.display.HTML object>"
      ]
     },
     "metadata": {},
     "output_type": "display_data"
    },
    {
     "name": "stderr",
     "output_type": "stream",
     "text": [
      "\u001b[36m(TrainViT pid=777824)\u001b[0m /home/sur06423/miniconda3/envs/deepl/lib/python3.10/site-packages/torch/nn/modules/conv.py:456: UserWarning: Applied workaround for CuDNN issue, install nvrtc.so (Triggered internally at /opt/conda/conda-bld/pytorch_1704987280714/work/aten/src/ATen/native/cudnn/Conv_v8.cpp:80.)\n",
      "\u001b[36m(TrainViT pid=777824)\u001b[0m   return F.conv2d(input, weight, bias, self.stride,\n",
      "\u001b[36m(TrainViT pid=777822)\u001b[0m Checkpoint successfully created at: Checkpoint(filesystem=local, path=/home/sur06423/wacv_paper/wacv_paper/ray_results/Dynamic_Trial_Exp_1/TrainViT_b8372_00001_1_lr=0.0066,momentum=0.9658_2024-10-23_13-55-38/checkpoint_000000)\n",
      "\u001b[36m(TrainViT pid=777822)\u001b[0m /home/sur06423/miniconda3/envs/deepl/lib/python3.10/site-packages/torch/nn/modules/conv.py:456: UserWarning: Applied workaround for CuDNN issue, install nvrtc.so (Triggered internally at /opt/conda/conda-bld/pytorch_1704987280714/work/aten/src/ATen/native/cudnn/Conv_v8.cpp:80.)\u001b[32m [repeated 3x across cluster] (Ray deduplicates logs by default. Set RAY_DEDUP_LOGS=0 to disable log deduplication, or see https://docs.ray.io/en/master/ray-observability/user-guides/configure-logging.html#log-deduplication for more options.)\u001b[0m\n",
      "\u001b[36m(TrainViT pid=777822)\u001b[0m   return F.conv2d(input, weight, bias, self.stride,\u001b[32m [repeated 3x across cluster]\u001b[0m\n",
      "\u001b[36m(TrainViT pid=777822)\u001b[0m Checkpoint successfully created at: Checkpoint(filesystem=local, path=/home/sur06423/wacv_paper/wacv_paper/ray_results/Dynamic_Trial_Exp_1/TrainViT_b8372_00001_1_lr=0.0066,momentum=0.9658_2024-10-23_13-55-38/checkpoint_000001)\u001b[32m [repeated 4x across cluster]\u001b[0m\n",
      "\u001b[36m(TrainViT pid=777822)\u001b[0m Checkpoint successfully created at: Checkpoint(filesystem=local, path=/home/sur06423/wacv_paper/wacv_paper/ray_results/Dynamic_Trial_Exp_1/TrainViT_b8372_00001_1_lr=0.0066,momentum=0.9658_2024-10-23_13-55-38/checkpoint_000002)\u001b[32m [repeated 4x across cluster]\u001b[0m\n",
      "\u001b[36m(TrainViT pid=780496)\u001b[0m /home/sur06423/miniconda3/envs/deepl/lib/python3.10/site-packages/torch/nn/modules/conv.py:456: UserWarning: Applied workaround for CuDNN issue, install nvrtc.so (Triggered internally at /opt/conda/conda-bld/pytorch_1704987280714/work/aten/src/ATen/native/cudnn/Conv_v8.cpp:80.)\n",
      "\u001b[36m(TrainViT pid=780496)\u001b[0m   return F.conv2d(input, weight, bias, self.stride,\n",
      "\u001b[36m(TrainViT pid=777821)\u001b[0m Checkpoint successfully created at: Checkpoint(filesystem=local, path=/home/sur06423/wacv_paper/wacv_paper/ray_results/Dynamic_Trial_Exp_1/TrainViT_b8372_00000_0_lr=0.0043,momentum=0.9544_2024-10-23_13-55-38/checkpoint_000002)\u001b[32m [repeated 3x across cluster]\u001b[0m\n",
      "\u001b[36m(TrainViT pid=780366)\u001b[0m /home/sur06423/miniconda3/envs/deepl/lib/python3.10/site-packages/torch/nn/modules/conv.py:456: UserWarning: Applied workaround for CuDNN issue, install nvrtc.so (Triggered internally at /opt/conda/conda-bld/pytorch_1704987280714/work/aten/src/ATen/native/cudnn/Conv_v8.cpp:80.)\u001b[32m [repeated 3x across cluster]\u001b[0m\n",
      "\u001b[36m(TrainViT pid=780366)\u001b[0m   return F.conv2d(input, weight, bias, self.stride,\u001b[32m [repeated 3x across cluster]\u001b[0m\n",
      "\u001b[36m(TrainViT pid=780497)\u001b[0m Checkpoint successfully created at: Checkpoint(filesystem=local, path=/home/sur06423/wacv_paper/wacv_paper/ray_results/Dynamic_Trial_Exp_1/TrainViT_b8372_00007_7_lr=0.0112,momentum=0.8021_2024-10-23_14-01-27/checkpoint_000000)\n",
      "\u001b[36m(TrainViT pid=780367)\u001b[0m Checkpoint successfully created at: Checkpoint(filesystem=local, path=/home/sur06423/wacv_paper/wacv_paper/ray_results/Dynamic_Trial_Exp_1/TrainViT_b8372_00005_5_lr=0.0003,momentum=0.9225_2024-10-23_14-01-25/checkpoint_000000)\n",
      "\u001b[36m(TrainViT pid=780497)\u001b[0m Checkpoint successfully created at: Checkpoint(filesystem=local, path=/home/sur06423/wacv_paper/wacv_paper/ray_results/Dynamic_Trial_Exp_1/TrainViT_b8372_00007_7_lr=0.0112,momentum=0.8021_2024-10-23_14-01-27/checkpoint_000001)\u001b[32m [repeated 3x across cluster]\u001b[0m\n",
      "\u001b[36m(TrainViT pid=780497)\u001b[0m Checkpoint successfully created at: Checkpoint(filesystem=local, path=/home/sur06423/wacv_paper/wacv_paper/ray_results/Dynamic_Trial_Exp_1/TrainViT_b8372_00007_7_lr=0.0112,momentum=0.8021_2024-10-23_14-01-27/checkpoint_000002)\u001b[32m [repeated 4x across cluster]\u001b[0m\n",
      "2024-10-23 14:07:21,389\tINFO tune.py:1009 -- Wrote the latest version of all result files and experiment state to '/home/sur06423/wacv_paper/wacv_paper/ray_results/Dynamic_Trial_Exp_1' in 0.0541s.\n",
      "2024-10-23 14:07:21,407\tINFO tune.py:1041 -- Total run time: 703.28 seconds (703.10 seconds for the tuning loop).\n"
     ]
    }
   ],
   "source": [
    "# Create the Tuner and run the trials\n",
    "tuner = Tuner(trainable_with_resources,\n",
    "              param_space=config, \n",
    "              tune_config=tune_config,\n",
    "              run_config=run_config \n",
    "              )\n",
    "results = tuner.fit()"
   ]
  },
  {
   "cell_type": "code",
   "execution_count": 13,
   "metadata": {},
   "outputs": [
    {
     "name": "stdout",
     "output_type": "stream",
     "text": [
      "ResultGrid<[\n",
      "  Result(\n",
      "    metrics={'loss': 1.2158935063617233, 'accuracy': 0.6403351286654698, 'val_loss': 5.176045616798537, 'val_acc': 0.2630796670630202},\n",
      "    path='/home/sur06423/wacv_paper/wacv_paper/ray_results/Dynamic_Trial_Exp_1/TrainViT_b8372_00000_0_lr=0.0043,momentum=0.9544_2024-10-23_13-55-38',\n",
      "    filesystem='local',\n",
      "    checkpoint=Checkpoint(filesystem=local, path=/home/sur06423/wacv_paper/wacv_paper/ray_results/Dynamic_Trial_Exp_1/TrainViT_b8372_00000_0_lr=0.0043,momentum=0.9544_2024-10-23_13-55-38/checkpoint_000002)\n",
      "  ),\n",
      "  Result(\n",
      "    metrics={'loss': 1.039598422447127, 'accuracy': 0.7489527229204069, 'val_loss': 6.2236026447536545, 'val_acc': 0.23573127229488705},\n",
      "    path='/home/sur06423/wacv_paper/wacv_paper/ray_results/Dynamic_Trial_Exp_1/TrainViT_b8372_00001_1_lr=0.0066,momentum=0.9658_2024-10-23_13-55-38',\n",
      "    filesystem='local',\n",
      "    checkpoint=Checkpoint(filesystem=local, path=/home/sur06423/wacv_paper/wacv_paper/ray_results/Dynamic_Trial_Exp_1/TrainViT_b8372_00001_1_lr=0.0066,momentum=0.9658_2024-10-23_13-55-38/checkpoint_000002)\n",
      "  ),\n",
      "  Result(\n",
      "    metrics={'loss': 0.6296375851157466, 'accuracy': 0.8312387791741472, 'val_loss': 3.729667558114395, 'val_acc': 0.33561236623067775},\n",
      "    path='/home/sur06423/wacv_paper/wacv_paper/ray_results/Dynamic_Trial_Exp_1/TrainViT_b8372_00002_2_lr=0.0295,momentum=0.8730_2024-10-23_13-55-38',\n",
      "    filesystem='local',\n",
      "    checkpoint=Checkpoint(filesystem=local, path=/home/sur06423/wacv_paper/wacv_paper/ray_results/Dynamic_Trial_Exp_1/TrainViT_b8372_00002_2_lr=0.0295,momentum=0.8730_2024-10-23_13-55-38/checkpoint_000002)\n",
      "  ),\n",
      "  Result(\n",
      "    metrics={'loss': 1.1361462602638186, 'accuracy': 0.604129263913824, 'val_loss': 3.417348276562413, 'val_acc': 0.20035671819262782},\n",
      "    path='/home/sur06423/wacv_paper/wacv_paper/ray_results/Dynamic_Trial_Exp_1/TrainViT_b8372_00003_3_lr=0.0044,momentum=0.8183_2024-10-23_13-55-38',\n",
      "    filesystem='local',\n",
      "    checkpoint=Checkpoint(filesystem=local, path=/home/sur06423/wacv_paper/wacv_paper/ray_results/Dynamic_Trial_Exp_1/TrainViT_b8372_00003_3_lr=0.0044,momentum=0.8183_2024-10-23_13-55-38/checkpoint_000002)\n",
      "  ),\n",
      "  Result(\n",
      "    metrics={'loss': 1.447843953993847, 'accuracy': 0.521244763614602, 'val_loss': 3.2482100043370523, 'val_acc': 0.11087990487514864},\n",
      "    path='/home/sur06423/wacv_paper/wacv_paper/ray_results/Dynamic_Trial_Exp_1/TrainViT_b8372_00004_4_lr=0.0004,momentum=0.9159_2024-10-23_14-01-24',\n",
      "    filesystem='local',\n",
      "    checkpoint=Checkpoint(filesystem=local, path=/home/sur06423/wacv_paper/wacv_paper/ray_results/Dynamic_Trial_Exp_1/TrainViT_b8372_00004_4_lr=0.0004,momentum=0.9159_2024-10-23_14-01-24/checkpoint_000002)\n",
      "  ),\n",
      "  Result(\n",
      "    metrics={'loss': 1.4364309462154077, 'accuracy': 0.521244763614602, 'val_loss': 3.0729056603843334, 'val_acc': 0.11087990487514864},\n",
      "    path='/home/sur06423/wacv_paper/wacv_paper/ray_results/Dynamic_Trial_Exp_1/TrainViT_b8372_00005_5_lr=0.0003,momentum=0.9225_2024-10-23_14-01-25',\n",
      "    filesystem='local',\n",
      "    checkpoint=Checkpoint(filesystem=local, path=/home/sur06423/wacv_paper/wacv_paper/ray_results/Dynamic_Trial_Exp_1/TrainViT_b8372_00005_5_lr=0.0003,momentum=0.9225_2024-10-23_14-01-25/checkpoint_000002)\n",
      "  ),\n",
      "  Result(\n",
      "    metrics={'loss': 1.661221317799772, 'accuracy': 0.521244763614602, 'val_loss': 2.703330005675235, 'val_acc': 0.11087990487514864},\n",
      "    path='/home/sur06423/wacv_paper/wacv_paper/ray_results/Dynamic_Trial_Exp_1/TrainViT_b8372_00006_6_lr=0.0003,momentum=0.8146_2024-10-23_14-01-26',\n",
      "    filesystem='local',\n",
      "    checkpoint=Checkpoint(filesystem=local, path=/home/sur06423/wacv_paper/wacv_paper/ray_results/Dynamic_Trial_Exp_1/TrainViT_b8372_00006_6_lr=0.0003,momentum=0.8146_2024-10-23_14-01-26/checkpoint_000002)\n",
      "  ),\n",
      "  Result(\n",
      "    metrics={'loss': 0.9093611244310668, 'accuracy': 0.7208258527827648, 'val_loss': 3.3715596014764446, 'val_acc': 0.2749702734839477},\n",
      "    path='/home/sur06423/wacv_paper/wacv_paper/ray_results/Dynamic_Trial_Exp_1/TrainViT_b8372_00007_7_lr=0.0112,momentum=0.8021_2024-10-23_14-01-27',\n",
      "    filesystem='local',\n",
      "    checkpoint=Checkpoint(filesystem=local, path=/home/sur06423/wacv_paper/wacv_paper/ray_results/Dynamic_Trial_Exp_1/TrainViT_b8372_00007_7_lr=0.0112,momentum=0.8021_2024-10-23_14-01-27/checkpoint_000002)\n",
      "  )\n",
      "]>\n"
     ]
    }
   ],
   "source": [
    "print(results)"
   ]
  },
  {
   "cell_type": "code",
   "execution_count": 14,
   "metadata": {},
   "outputs": [
    {
     "name": "stdout",
     "output_type": "stream",
     "text": [
      "Best trial config: {'lr': 0.02947919852342335, 'momentum': 0.8730365265780353, 'use_gpu': True}\n",
      "Best trial final validation accuracy: 0.33561236623067775\n"
     ]
    }
   ],
   "source": [
    "best_result = results.get_best_result(metric=\"val_acc\", mode=\"max\")\n",
    "print(\"Best trial config: {}\".format(best_result.config))\n",
    "print(\"Best trial final validation accuracy: {}\".format(best_result.metrics[\"val_acc\"]))\n",
    "\n"
   ]
  },
  {
   "cell_type": "code",
   "execution_count": null,
   "metadata": {},
   "outputs": [],
   "source": []
  }
 ],
 "metadata": {
  "kernelspec": {
   "display_name": "deepl",
   "language": "python",
   "name": "python3"
  },
  "language_info": {
   "codemirror_mode": {
    "name": "ipython",
    "version": 3
   },
   "file_extension": ".py",
   "mimetype": "text/x-python",
   "name": "python",
   "nbconvert_exporter": "python",
   "pygments_lexer": "ipython3",
   "version": "3.10.12"
  }
 },
 "nbformat": 4,
 "nbformat_minor": 2
}
