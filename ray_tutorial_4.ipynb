{
 "cells": [
  {
   "cell_type": "code",
   "execution_count": 1,
   "metadata": {},
   "outputs": [
    {
     "name": "stdout",
     "output_type": "stream",
     "text": [
      "Loading dependencies we have already seen...\n",
      "Importing ray...\n",
      "Done...\n",
      "Loading training code that we have already seen...\n",
      "Done...\n"
     ]
    }
   ],
   "source": [
    "from dependencies import *\n",
    "from mnist_pytorch import get_data_loaders\n",
    "from mnist_training import *"
   ]
  },
  {
   "cell_type": "code",
   "execution_count": 2,
   "metadata": {},
   "outputs": [
    {
     "name": "stderr",
     "output_type": "stream",
     "text": [
      "2024-10-19 16:27:01,628\tINFO worker.py:1777 -- Started a local Ray instance. View the dashboard at \u001b[1m\u001b[32m127.0.0.1:8266 \u001b[39m\u001b[22m\n"
     ]
    },
    {
     "data": {
      "application/vnd.jupyter.widget-view+json": {
       "model_id": "212226955cae4421802211a5c4d0fae3",
       "version_major": 2,
       "version_minor": 0
      },
      "text/html": [
       "<div class=\"lm-Widget p-Widget lm-Panel p-Panel jp-Cell-outputWrapper\">\n",
       "    <div style=\"margin-left: 50px;display: flex;flex-direction: row;align-items: center\">\n",
       "        <div class=\"jp-RenderedHTMLCommon\" style=\"display: flex; flex-direction: row;\">\n",
       "  <svg viewBox=\"0 0 567 224\" fill=\"none\" xmlns=\"http://www.w3.org/2000/svg\" style=\"height: 3em;\">\n",
       "    <g clip-path=\"url(#clip0_4338_178347)\">\n",
       "        <path d=\"M341.29 165.561H355.29L330.13 129.051C345.63 123.991 354.21 112.051 354.21 94.2307C354.21 71.3707 338.72 58.1807 311.88 58.1807H271V165.561H283.27V131.661H311.8C314.25 131.661 316.71 131.501 319.01 131.351L341.25 165.561H341.29ZM283.29 119.851V70.0007H311.82C331.3 70.0007 342.34 78.2907 342.34 94.5507C342.34 111.271 331.34 119.861 311.82 119.861L283.29 119.851ZM451.4 138.411L463.4 165.561H476.74L428.74 58.1807H416L367.83 165.561H380.83L392.83 138.411H451.4ZM446.19 126.601H398L422 72.1407L446.24 126.601H446.19ZM526.11 128.741L566.91 58.1807H554.35L519.99 114.181L485.17 58.1807H472.44L514.01 129.181V165.541H526.13V128.741H526.11Z\" fill=\"var(--jp-ui-font-color0)\"/>\n",
       "        <path d=\"M82.35 104.44C84.0187 97.8827 87.8248 92.0678 93.1671 87.9146C98.5094 83.7614 105.083 81.5067 111.85 81.5067C118.617 81.5067 125.191 83.7614 130.533 87.9146C135.875 92.0678 139.681 97.8827 141.35 104.44H163.75C164.476 101.562 165.622 98.8057 167.15 96.2605L127.45 56.5605C121.071 60.3522 113.526 61.6823 106.235 60.3005C98.9443 58.9187 92.4094 54.9203 87.8602 49.0574C83.3109 43.1946 81.0609 35.8714 81.5332 28.4656C82.0056 21.0599 85.1679 14.0819 90.4252 8.8446C95.6824 3.60726 102.672 0.471508 110.08 0.0272655C117.487 -0.416977 124.802 1.86091 130.647 6.4324C136.493 11.0039 140.467 17.5539 141.821 24.8501C143.175 32.1463 141.816 39.6859 138 46.0505L177.69 85.7505C182.31 82.9877 187.58 81.4995 192.962 81.4375C198.345 81.3755 203.648 82.742 208.33 85.3976C213.012 88.0532 216.907 91.9029 219.616 96.5544C222.326 101.206 223.753 106.492 223.753 111.875C223.753 117.258 222.326 122.545 219.616 127.197C216.907 131.848 213.012 135.698 208.33 138.353C203.648 141.009 198.345 142.375 192.962 142.313C187.58 142.251 182.31 140.763 177.69 138L138 177.7C141.808 184.071 143.155 191.614 141.79 198.91C140.424 206.205 136.44 212.75 130.585 217.313C124.731 221.875 117.412 224.141 110.004 223.683C102.596 223.226 95.6103 220.077 90.3621 214.828C85.1139 209.58 81.9647 202.595 81.5072 195.187C81.0497 187.779 83.3154 180.459 87.878 174.605C92.4405 168.751 98.9853 164.766 106.281 163.401C113.576 162.035 121.119 163.383 127.49 167.19L167.19 127.49C165.664 124.941 164.518 122.182 163.79 119.3H141.39C139.721 125.858 135.915 131.673 130.573 135.826C125.231 139.98 118.657 142.234 111.89 142.234C105.123 142.234 98.5494 139.98 93.2071 135.826C87.8648 131.673 84.0587 125.858 82.39 119.3H60C58.1878 126.495 53.8086 132.78 47.6863 136.971C41.5641 141.163 34.1211 142.972 26.7579 142.059C19.3947 141.146 12.6191 137.574 7.70605 132.014C2.79302 126.454 0.0813599 119.29 0.0813599 111.87C0.0813599 104.451 2.79302 97.2871 7.70605 91.7272C12.6191 86.1673 19.3947 82.5947 26.7579 81.6817C34.1211 80.7686 41.5641 82.5781 47.6863 86.7696C53.8086 90.9611 58.1878 97.2456 60 104.44H82.35ZM100.86 204.32C103.407 206.868 106.759 208.453 110.345 208.806C113.93 209.159 117.527 208.258 120.522 206.256C123.517 204.254 125.725 201.276 126.771 197.828C127.816 194.38 127.633 190.677 126.253 187.349C124.874 184.021 122.383 181.274 119.205 179.577C116.027 177.88 112.359 177.337 108.826 178.042C105.293 178.746 102.113 180.654 99.8291 183.44C97.5451 186.226 96.2979 189.718 96.3 193.32C96.2985 195.364 96.7006 197.388 97.4831 199.275C98.2656 201.163 99.4132 202.877 100.86 204.32ZM204.32 122.88C206.868 120.333 208.453 116.981 208.806 113.396C209.159 109.811 208.258 106.214 206.256 103.219C204.254 100.223 201.275 98.0151 197.827 96.97C194.38 95.9249 190.676 96.1077 187.348 97.4873C184.02 98.8669 181.274 101.358 179.577 104.536C177.879 107.714 177.337 111.382 178.041 114.915C178.746 118.448 180.653 121.627 183.439 123.911C186.226 126.195 189.717 127.443 193.32 127.44C195.364 127.443 197.388 127.042 199.275 126.259C201.163 125.476 202.878 124.328 204.32 122.88ZM122.88 19.4205C120.333 16.8729 116.981 15.2876 113.395 14.9347C109.81 14.5817 106.213 15.483 103.218 17.4849C100.223 19.4868 98.0146 22.4654 96.9696 25.9131C95.9245 29.3608 96.1073 33.0642 97.4869 36.3922C98.8665 39.7202 101.358 42.4668 104.535 44.1639C107.713 45.861 111.381 46.4036 114.914 45.6992C118.447 44.9949 121.627 43.0871 123.911 40.301C126.195 37.515 127.442 34.0231 127.44 30.4205C127.44 28.3772 127.038 26.3539 126.255 24.4664C125.473 22.5788 124.326 20.8642 122.88 19.4205ZM19.42 100.86C16.8725 103.408 15.2872 106.76 14.9342 110.345C14.5813 113.93 15.4826 117.527 17.4844 120.522C19.4863 123.518 22.4649 125.726 25.9127 126.771C29.3604 127.816 33.0638 127.633 36.3918 126.254C39.7198 124.874 42.4664 122.383 44.1635 119.205C45.8606 116.027 46.4032 112.359 45.6988 108.826C44.9944 105.293 43.0866 102.114 40.3006 99.8296C37.5145 97.5455 34.0227 96.2983 30.42 96.3005C26.2938 96.3018 22.337 97.9421 19.42 100.86ZM100.86 100.86C98.3125 103.408 96.7272 106.76 96.3742 110.345C96.0213 113.93 96.9226 117.527 98.9244 120.522C100.926 123.518 103.905 125.726 107.353 126.771C110.8 127.816 114.504 127.633 117.832 126.254C121.16 124.874 123.906 122.383 125.604 119.205C127.301 116.027 127.843 112.359 127.139 108.826C126.434 105.293 124.527 102.114 121.741 99.8296C118.955 97.5455 115.463 96.2983 111.86 96.3005C109.817 96.299 107.793 96.701 105.905 97.4835C104.018 98.2661 102.303 99.4136 100.86 100.86Z\" fill=\"#00AEEF\"/>\n",
       "    </g>\n",
       "    <defs>\n",
       "        <clipPath id=\"clip0_4338_178347\">\n",
       "            <rect width=\"566.93\" height=\"223.75\" fill=\"white\"/>\n",
       "        </clipPath>\n",
       "    </defs>\n",
       "  </svg>\n",
       "</div>\n",
       "\n",
       "        <table class=\"jp-RenderedHTMLCommon\" style=\"border-collapse: collapse;color: var(--jp-ui-font-color1);font-size: var(--jp-ui-font-size1);\">\n",
       "    <tr>\n",
       "        <td style=\"text-align: left\"><b>Python version:</b></td>\n",
       "        <td style=\"text-align: left\"><b>3.10.12</b></td>\n",
       "    </tr>\n",
       "    <tr>\n",
       "        <td style=\"text-align: left\"><b>Ray version:</b></td>\n",
       "        <td style=\"text-align: left\"><b>2.37.0</b></td>\n",
       "    </tr>\n",
       "    <tr>\n",
       "    <td style=\"text-align: left\"><b>Dashboard:</b></td>\n",
       "    <td style=\"text-align: left\"><b><a href=\"http://127.0.0.1:8266\" target=\"_blank\">http://127.0.0.1:8266</a></b></td>\n",
       "</tr>\n",
       "\n",
       "</table>\n",
       "\n",
       "    </div>\n",
       "</div>\n"
      ],
      "text/plain": [
       "RayContext(dashboard_url='127.0.0.1:8266', python_version='3.10.12', ray_version='2.37.0', ray_commit='1b620f244c4fb67d80661046091573fb6eefecb6')"
      ]
     },
     "execution_count": 2,
     "metadata": {},
     "output_type": "execute_result"
    }
   ],
   "source": [
    "ray.shutdown()\n",
    "ray.init(num_cpus=6, num_gpus=1, include_dashboard=True)"
   ]
  },
  {
   "cell_type": "code",
   "execution_count": 3,
   "metadata": {},
   "outputs": [
    {
     "name": "stderr",
     "output_type": "stream",
     "text": [
      "2024-10-19 16:31:40,334\tINFO tune.py:616 -- [output] This uses the legacy output and progress reporter, as Jupyter notebooks are not supported by the new engine, yet. For more information, please see https://github.com/ray-project/ray/issues/36949\n",
      "2024-10-19 16:31:40,431\tWARNING tune.py:887 -- Tune detects GPUs, but no trials are using GPUs. To enable trials to use GPUs, wrap `train_func` with `tune.with_resources(train_func, resources_per_trial={'gpu': 1})` which allows Tune to expose 1 GPU to each trial. For Ray Train Trainers, you can specify GPU resources through `ScalingConfig(use_gpu=True)`. You can also override `Trainable.default_resource_request` if using the Trainable API.\n"
     ]
    },
    {
     "data": {
      "text/html": [
       "<div class=\"tuneStatus\">\n",
       "  <div style=\"display: flex;flex-direction: row\">\n",
       "    <div style=\"display: flex;flex-direction: column;\">\n",
       "      <h3>Tune Status</h3>\n",
       "      <table>\n",
       "<tbody>\n",
       "<tr><td>Current time:</td><td>2024-10-19 16:32:32</td></tr>\n",
       "<tr><td>Running for: </td><td>00:00:52.00        </td></tr>\n",
       "<tr><td>Memory:      </td><td>17.9/503.4 GiB     </td></tr>\n",
       "</tbody>\n",
       "</table>\n",
       "    </div>\n",
       "    <div class=\"vDivider\"></div>\n",
       "    <div class=\"systemInfo\">\n",
       "      <h3>System Info</h3>\n",
       "      Using AsyncHyperBand: num_stopped=15<br>Bracket: Iter 90.000: 0.9552083333333333 | Iter 30.000: 0.925 | Iter 10.000: 0.8875<br>Bracket: Iter 90.000: 0.95625 | Iter 30.000: 0.915625<br>Bracket: Iter 90.000: 0.971875<br>Logical resource usage: 1.0/6 CPUs, 0/1 GPUs\n",
       "    </div>\n",
       "    \n",
       "  </div>\n",
       "  <div class=\"hDivider\"></div>\n",
       "  <div class=\"trialStatus\">\n",
       "    <h3>Trial Status</h3>\n",
       "    <table>\n",
       "<thead>\n",
       "<tr><th>Trial name            </th><th>status    </th><th>loc              </th><th style=\"text-align: right;\">        lr</th><th style=\"text-align: right;\">  momentum</th><th style=\"text-align: right;\">     acc</th><th style=\"text-align: right;\">  iter</th><th style=\"text-align: right;\">  total time (s)</th></tr>\n",
       "</thead>\n",
       "<tbody>\n",
       "<tr><td>TrainMNIST_dadcd_00000</td><td>TERMINATED</td><td>10.56.7.46:228736</td><td style=\"text-align: right;\">0.0543348 </td><td style=\"text-align: right;\">  0.522849</td><td style=\"text-align: right;\">0.928125</td><td style=\"text-align: right;\">   100</td><td style=\"text-align: right;\">        17.6371 </td></tr>\n",
       "<tr><td>TrainMNIST_dadcd_00001</td><td>TERMINATED</td><td>10.56.7.46:228737</td><td style=\"text-align: right;\">0.0629526 </td><td style=\"text-align: right;\">  0.491182</td><td style=\"text-align: right;\">0.98125 </td><td style=\"text-align: right;\">   100</td><td style=\"text-align: right;\">        20.4724 </td></tr>\n",
       "<tr><td>TrainMNIST_dadcd_00002</td><td>TERMINATED</td><td>10.56.7.46:228738</td><td style=\"text-align: right;\">0.00630866</td><td style=\"text-align: right;\">  0.440006</td><td style=\"text-align: right;\">0.9125  </td><td style=\"text-align: right;\">   100</td><td style=\"text-align: right;\">        16.4017 </td></tr>\n",
       "<tr><td>TrainMNIST_dadcd_00003</td><td>TERMINATED</td><td>10.56.7.46:228739</td><td style=\"text-align: right;\">0.0268832 </td><td style=\"text-align: right;\">  0.728571</td><td style=\"text-align: right;\">0.8875  </td><td style=\"text-align: right;\">    30</td><td style=\"text-align: right;\">         5.30325</td></tr>\n",
       "<tr><td>TrainMNIST_dadcd_00004</td><td>TERMINATED</td><td>10.56.7.46:228740</td><td style=\"text-align: right;\">0.0458508 </td><td style=\"text-align: right;\">  0.565553</td><td style=\"text-align: right;\">0.953125</td><td style=\"text-align: right;\">   100</td><td style=\"text-align: right;\">        17.4284 </td></tr>\n",
       "<tr><td>TrainMNIST_dadcd_00005</td><td>TERMINATED</td><td>10.56.7.46:228832</td><td style=\"text-align: right;\">0.0406402 </td><td style=\"text-align: right;\">  0.133752</td><td style=\"text-align: right;\">0.95625 </td><td style=\"text-align: right;\">   100</td><td style=\"text-align: right;\">        16.5754 </td></tr>\n",
       "<tr><td>TrainMNIST_dadcd_00006</td><td>TERMINATED</td><td>10.56.7.46:229399</td><td style=\"text-align: right;\">0.00397942</td><td style=\"text-align: right;\">  0.713928</td><td style=\"text-align: right;\">0.803125</td><td style=\"text-align: right;\">    10</td><td style=\"text-align: right;\">         1.77399</td></tr>\n",
       "<tr><td>TrainMNIST_dadcd_00007</td><td>TERMINATED</td><td>10.56.7.46:229569</td><td style=\"text-align: right;\">0.00908979</td><td style=\"text-align: right;\">  0.841248</td><td style=\"text-align: right;\">0.81875 </td><td style=\"text-align: right;\">    10</td><td style=\"text-align: right;\">         1.76571</td></tr>\n",
       "<tr><td>TrainMNIST_dadcd_00008</td><td>TERMINATED</td><td>10.56.7.46:229803</td><td style=\"text-align: right;\">0.0927713 </td><td style=\"text-align: right;\">  0.28716 </td><td style=\"text-align: right;\">0.896875</td><td style=\"text-align: right;\">    30</td><td style=\"text-align: right;\">         5.25687</td></tr>\n",
       "<tr><td>TrainMNIST_dadcd_00009</td><td>TERMINATED</td><td>10.56.7.46:229805</td><td style=\"text-align: right;\">0.0072565 </td><td style=\"text-align: right;\">  0.250625</td><td style=\"text-align: right;\">0.865625</td><td style=\"text-align: right;\">    30</td><td style=\"text-align: right;\">         5.03875</td></tr>\n",
       "<tr><td>TrainMNIST_dadcd_00010</td><td>TERMINATED</td><td>10.56.7.46:229963</td><td style=\"text-align: right;\">0.032011  </td><td style=\"text-align: right;\">  0.357732</td><td style=\"text-align: right;\">0.9125  </td><td style=\"text-align: right;\">    90</td><td style=\"text-align: right;\">        15.8615 </td></tr>\n",
       "<tr><td>TrainMNIST_dadcd_00011</td><td>TERMINATED</td><td>10.56.7.46:229964</td><td style=\"text-align: right;\">0.0860265 </td><td style=\"text-align: right;\">  0.129531</td><td style=\"text-align: right;\">0.859375</td><td style=\"text-align: right;\">    10</td><td style=\"text-align: right;\">         1.68546</td></tr>\n",
       "<tr><td>TrainMNIST_dadcd_00012</td><td>TERMINATED</td><td>10.56.7.46:230087</td><td style=\"text-align: right;\">0.0658881 </td><td style=\"text-align: right;\">  0.830745</td><td style=\"text-align: right;\">0.93125 </td><td style=\"text-align: right;\">   100</td><td style=\"text-align: right;\">        16.3503 </td></tr>\n",
       "<tr><td>TrainMNIST_dadcd_00013</td><td>TERMINATED</td><td>10.56.7.46:230170</td><td style=\"text-align: right;\">0.0483365 </td><td style=\"text-align: right;\">  0.837713</td><td style=\"text-align: right;\">0.946875</td><td style=\"text-align: right;\">   100</td><td style=\"text-align: right;\">        16.1761 </td></tr>\n",
       "<tr><td>TrainMNIST_dadcd_00014</td><td>TERMINATED</td><td>10.56.7.46:230458</td><td style=\"text-align: right;\">0.0467444 </td><td style=\"text-align: right;\">  0.655352</td><td style=\"text-align: right;\">0.934375</td><td style=\"text-align: right;\">    90</td><td style=\"text-align: right;\">        14.6525 </td></tr>\n",
       "</tbody>\n",
       "</table>\n",
       "  </div>\n",
       "</div>\n",
       "<style>\n",
       ".tuneStatus {\n",
       "  color: var(--jp-ui-font-color1);\n",
       "}\n",
       ".tuneStatus .systemInfo {\n",
       "  display: flex;\n",
       "  flex-direction: column;\n",
       "}\n",
       ".tuneStatus td {\n",
       "  white-space: nowrap;\n",
       "}\n",
       ".tuneStatus .trialStatus {\n",
       "  display: flex;\n",
       "  flex-direction: column;\n",
       "}\n",
       ".tuneStatus h3 {\n",
       "  font-weight: bold;\n",
       "}\n",
       ".tuneStatus .hDivider {\n",
       "  border-bottom-width: var(--jp-border-width);\n",
       "  border-bottom-color: var(--jp-border-color0);\n",
       "  border-bottom-style: solid;\n",
       "}\n",
       ".tuneStatus .vDivider {\n",
       "  border-left-width: var(--jp-border-width);\n",
       "  border-left-color: var(--jp-border-color0);\n",
       "  border-left-style: solid;\n",
       "  margin: 0.5em 1em 0.5em 1em;\n",
       "}\n",
       "</style>\n"
      ],
      "text/plain": [
       "<IPython.core.display.HTML object>"
      ]
     },
     "metadata": {},
     "output_type": "display_data"
    },
    {
     "name": "stdout",
     "output_type": "stream",
     "text": [
      "\u001b[36m(pid=228739)\u001b[0m Loading training code that we have already seen...\n",
      "\u001b[36m(pid=228739)\u001b[0m Done...\n"
     ]
    },
    {
     "data": {
      "text/html": [
       "<div class=\"trialProgress\">\n",
       "  <h3>Trial Progress</h3>\n",
       "  <table>\n",
       "<thead>\n",
       "<tr><th>Trial name            </th><th style=\"text-align: right;\">  mean_accuracy</th></tr>\n",
       "</thead>\n",
       "<tbody>\n",
       "<tr><td>TrainMNIST_dadcd_00000</td><td style=\"text-align: right;\">       0.928125</td></tr>\n",
       "<tr><td>TrainMNIST_dadcd_00001</td><td style=\"text-align: right;\">       0.98125 </td></tr>\n",
       "<tr><td>TrainMNIST_dadcd_00002</td><td style=\"text-align: right;\">       0.9125  </td></tr>\n",
       "<tr><td>TrainMNIST_dadcd_00003</td><td style=\"text-align: right;\">       0.8875  </td></tr>\n",
       "<tr><td>TrainMNIST_dadcd_00004</td><td style=\"text-align: right;\">       0.953125</td></tr>\n",
       "<tr><td>TrainMNIST_dadcd_00005</td><td style=\"text-align: right;\">       0.95625 </td></tr>\n",
       "<tr><td>TrainMNIST_dadcd_00006</td><td style=\"text-align: right;\">       0.803125</td></tr>\n",
       "<tr><td>TrainMNIST_dadcd_00007</td><td style=\"text-align: right;\">       0.81875 </td></tr>\n",
       "<tr><td>TrainMNIST_dadcd_00008</td><td style=\"text-align: right;\">       0.896875</td></tr>\n",
       "<tr><td>TrainMNIST_dadcd_00009</td><td style=\"text-align: right;\">       0.865625</td></tr>\n",
       "<tr><td>TrainMNIST_dadcd_00010</td><td style=\"text-align: right;\">       0.9125  </td></tr>\n",
       "<tr><td>TrainMNIST_dadcd_00011</td><td style=\"text-align: right;\">       0.859375</td></tr>\n",
       "<tr><td>TrainMNIST_dadcd_00012</td><td style=\"text-align: right;\">       0.93125 </td></tr>\n",
       "<tr><td>TrainMNIST_dadcd_00013</td><td style=\"text-align: right;\">       0.946875</td></tr>\n",
       "<tr><td>TrainMNIST_dadcd_00014</td><td style=\"text-align: right;\">       0.934375</td></tr>\n",
       "</tbody>\n",
       "</table>\n",
       "</div>\n",
       "<style>\n",
       ".trialProgress {\n",
       "  display: flex;\n",
       "  flex-direction: column;\n",
       "  color: var(--jp-ui-font-color1);\n",
       "}\n",
       ".trialProgress h3 {\n",
       "  font-weight: bold;\n",
       "}\n",
       ".trialProgress td {\n",
       "  white-space: nowrap;\n",
       "}\n",
       "</style>\n"
      ],
      "text/plain": [
       "<IPython.core.display.HTML object>"
      ]
     },
     "metadata": {},
     "output_type": "display_data"
    },
    {
     "name": "stderr",
     "output_type": "stream",
     "text": [
      "\u001b[36m(TrainMNIST pid=228738)\u001b[0m Checkpoint successfully created at: Checkpoint(filesystem=local, path=/home/sur06423/hiwi/vit_exp/vision_tranformer_baseline/statefarm/ray/ray_results/torch_mnist_asha/TrainMNIST_2024-10-19_16-31-40/TrainMNIST_dadcd_00002_2_lr=0.0063,momentum=0.4400_2024-10-19_16-31-40/checkpoint_000000)\n",
      "\u001b[36m(TrainMNIST pid=228738)\u001b[0m Checkpoint successfully created at: Checkpoint(filesystem=local, path=/home/sur06423/hiwi/vit_exp/vision_tranformer_baseline/statefarm/ray/ray_results/torch_mnist_asha/TrainMNIST_2024-10-19_16-31-40/TrainMNIST_dadcd_00002_2_lr=0.0063,momentum=0.4400_2024-10-19_16-31-40/checkpoint_000003)\u001b[32m [repeated 18x across cluster] (Ray deduplicates logs by default. Set RAY_DEDUP_LOGS=0 to disable log deduplication, or see https://docs.ray.io/en/master/ray-observability/user-guides/configure-logging.html#log-deduplication for more options.)\u001b[0m\n",
      "2024-10-19 16:31:55,539\tWARNING experiment_state.py:206 -- Experiment state snapshotting has been triggered multiple times in the last 5.0 seconds and may become a bottleneck. A snapshot is forced if `CheckpointConfig(num_to_keep)` is set, and a trial has checkpointed >= `num_to_keep` times since the last snapshot.\n",
      "You may want to consider increasing the `CheckpointConfig(num_to_keep)` or decreasing the frequency of saving checkpoints.\n",
      "You can suppress this warning by setting the environment variable TUNE_WARN_EXCESSIVE_EXPERIMENT_CHECKPOINT_SYNC_THRESHOLD_S to a smaller value than the current threshold (5.0). Set it to 0 to completely suppress this warning.\n"
     ]
    },
    {
     "name": "stdout",
     "output_type": "stream",
     "text": [
      "\u001b[36m(pid=229399)\u001b[0m Loading training code that we have already seen...\u001b[32m [repeated 6x across cluster]\u001b[0m\n",
      "\u001b[36m(pid=229399)\u001b[0m Done...\u001b[32m [repeated 6x across cluster]\u001b[0m\n"
     ]
    },
    {
     "name": "stderr",
     "output_type": "stream",
     "text": [
      "\u001b[36m(TrainMNIST pid=228738)\u001b[0m Checkpoint successfully created at: Checkpoint(filesystem=local, path=/home/sur06423/hiwi/vit_exp/vision_tranformer_baseline/statefarm/ray/ray_results/torch_mnist_asha/TrainMNIST_2024-10-19_16-31-40/TrainMNIST_dadcd_00002_2_lr=0.0063,momentum=0.4400_2024-10-19_16-31-40/checkpoint_000006)\u001b[32m [repeated 14x across cluster]\u001b[0m\n",
      "2024-10-19 16:31:59,122\tWARNING experiment_state.py:206 -- Experiment state snapshotting has been triggered multiple times in the last 5.0 seconds and may become a bottleneck. A snapshot is forced if `CheckpointConfig(num_to_keep)` is set, and a trial has checkpointed >= `num_to_keep` times since the last snapshot.\n",
      "You may want to consider increasing the `CheckpointConfig(num_to_keep)` or decreasing the frequency of saving checkpoints.\n",
      "You can suppress this warning by setting the environment variable TUNE_WARN_EXCESSIVE_EXPERIMENT_CHECKPOINT_SYNC_THRESHOLD_S to a smaller value than the current threshold (5.0). Set it to 0 to completely suppress this warning.\n",
      "2024-10-19 16:32:03,469\tWARNING experiment_state.py:206 -- Experiment state snapshotting has been triggered multiple times in the last 5.0 seconds and may become a bottleneck. A snapshot is forced if `CheckpointConfig(num_to_keep)` is set, and a trial has checkpointed >= `num_to_keep` times since the last snapshot.\n",
      "You may want to consider increasing the `CheckpointConfig(num_to_keep)` or decreasing the frequency of saving checkpoints.\n",
      "You can suppress this warning by setting the environment variable TUNE_WARN_EXCESSIVE_EXPERIMENT_CHECKPOINT_SYNC_THRESHOLD_S to a smaller value than the current threshold (5.0). Set it to 0 to completely suppress this warning.\n",
      "\u001b[36m(TrainMNIST pid=228738)\u001b[0m Checkpoint successfully created at: Checkpoint(filesystem=local, path=/home/sur06423/hiwi/vit_exp/vision_tranformer_baseline/statefarm/ray/ray_results/torch_mnist_asha/TrainMNIST_2024-10-19_16-31-40/TrainMNIST_dadcd_00002_2_lr=0.0063,momentum=0.4400_2024-10-19_16-31-40/checkpoint_000009)\u001b[32m [repeated 15x across cluster]\u001b[0m\n"
     ]
    },
    {
     "name": "stdout",
     "output_type": "stream",
     "text": [
      "\u001b[36m(pid=229569)\u001b[0m Loading training code that we have already seen...\n",
      "\u001b[36m(pid=229569)\u001b[0m Done...\n",
      "\u001b[36m(pid=229803)\u001b[0m Loading training code that we have already seen...\n",
      "\u001b[36m(pid=229803)\u001b[0m Done...\n"
     ]
    },
    {
     "name": "stderr",
     "output_type": "stream",
     "text": [
      "\u001b[36m(TrainMNIST pid=229805)\u001b[0m Checkpoint successfully created at: Checkpoint(filesystem=local, path=/home/sur06423/hiwi/vit_exp/vision_tranformer_baseline/statefarm/ray/ray_results/torch_mnist_asha/TrainMNIST_2024-10-19_16-31-40/TrainMNIST_dadcd_00009_9_lr=0.0073,momentum=0.2506_2024-10-19_16-31-40/checkpoint_000000)\u001b[32m [repeated 8x across cluster]\u001b[0m\n",
      "\u001b[36m(TrainMNIST pid=230087)\u001b[0m Checkpoint successfully created at: Checkpoint(filesystem=local, path=/home/sur06423/hiwi/vit_exp/vision_tranformer_baseline/statefarm/ray/ray_results/torch_mnist_asha/TrainMNIST_2024-10-19_16-31-40/TrainMNIST_dadcd_00012_12_lr=0.0659,momentum=0.8307_2024-10-19_16-31-40/checkpoint_000001)\u001b[32m [repeated 11x across cluster]\u001b[0m\n"
     ]
    },
    {
     "name": "stdout",
     "output_type": "stream",
     "text": [
      "\u001b[36m(pid=230458)\u001b[0m Loading training code that we have already seen...\u001b[32m [repeated 6x across cluster]\u001b[0m\n",
      "\u001b[36m(pid=230458)\u001b[0m Done...\u001b[32m [repeated 6x across cluster]\u001b[0m\n"
     ]
    },
    {
     "name": "stderr",
     "output_type": "stream",
     "text": [
      "2024-10-19 16:32:17,891\tWARNING experiment_state.py:206 -- Experiment state snapshotting has been triggered multiple times in the last 5.0 seconds and may become a bottleneck. A snapshot is forced if `CheckpointConfig(num_to_keep)` is set, and a trial has checkpointed >= `num_to_keep` times since the last snapshot.\n",
      "You may want to consider increasing the `CheckpointConfig(num_to_keep)` or decreasing the frequency of saving checkpoints.\n",
      "You can suppress this warning by setting the environment variable TUNE_WARN_EXCESSIVE_EXPERIMENT_CHECKPOINT_SYNC_THRESHOLD_S to a smaller value than the current threshold (5.0). Set it to 0 to completely suppress this warning.\n",
      "\u001b[36m(TrainMNIST pid=230087)\u001b[0m Checkpoint successfully created at: Checkpoint(filesystem=local, path=/home/sur06423/hiwi/vit_exp/vision_tranformer_baseline/statefarm/ray/ray_results/torch_mnist_asha/TrainMNIST_2024-10-19_16-31-40/TrainMNIST_dadcd_00012_12_lr=0.0659,momentum=0.8307_2024-10-19_16-31-40/checkpoint_000004)\u001b[32m [repeated 11x across cluster]\u001b[0m\n",
      "2024-10-19 16:32:21,452\tWARNING experiment_state.py:206 -- Experiment state snapshotting has been triggered multiple times in the last 5.0 seconds and may become a bottleneck. A snapshot is forced if `CheckpointConfig(num_to_keep)` is set, and a trial has checkpointed >= `num_to_keep` times since the last snapshot.\n",
      "You may want to consider increasing the `CheckpointConfig(num_to_keep)` or decreasing the frequency of saving checkpoints.\n",
      "You can suppress this warning by setting the environment variable TUNE_WARN_EXCESSIVE_EXPERIMENT_CHECKPOINT_SYNC_THRESHOLD_S to a smaller value than the current threshold (5.0). Set it to 0 to completely suppress this warning.\n",
      "2024-10-19 16:32:25,253\tWARNING experiment_state.py:206 -- Experiment state snapshotting has been triggered multiple times in the last 5.0 seconds and may become a bottleneck. A snapshot is forced if `CheckpointConfig(num_to_keep)` is set, and a trial has checkpointed >= `num_to_keep` times since the last snapshot.\n",
      "You may want to consider increasing the `CheckpointConfig(num_to_keep)` or decreasing the frequency of saving checkpoints.\n",
      "You can suppress this warning by setting the environment variable TUNE_WARN_EXCESSIVE_EXPERIMENT_CHECKPOINT_SYNC_THRESHOLD_S to a smaller value than the current threshold (5.0). Set it to 0 to completely suppress this warning.\n",
      "\u001b[36m(TrainMNIST pid=230087)\u001b[0m Checkpoint successfully created at: Checkpoint(filesystem=local, path=/home/sur06423/hiwi/vit_exp/vision_tranformer_baseline/statefarm/ray/ray_results/torch_mnist_asha/TrainMNIST_2024-10-19_16-31-40/TrainMNIST_dadcd_00012_12_lr=0.0659,momentum=0.8307_2024-10-19_16-31-40/checkpoint_000007)\u001b[32m [repeated 12x across cluster]\u001b[0m\n",
      "2024-10-19 16:32:29,013\tWARNING experiment_state.py:206 -- Experiment state snapshotting has been triggered multiple times in the last 5.0 seconds and may become a bottleneck. A snapshot is forced if `CheckpointConfig(num_to_keep)` is set, and a trial has checkpointed >= `num_to_keep` times since the last snapshot.\n",
      "You may want to consider increasing the `CheckpointConfig(num_to_keep)` or decreasing the frequency of saving checkpoints.\n",
      "You can suppress this warning by setting the environment variable TUNE_WARN_EXCESSIVE_EXPERIMENT_CHECKPOINT_SYNC_THRESHOLD_S to a smaller value than the current threshold (5.0). Set it to 0 to completely suppress this warning.\n",
      "\u001b[36m(TrainMNIST pid=230458)\u001b[0m Checkpoint successfully created at: Checkpoint(filesystem=local, path=/home/sur06423/hiwi/vit_exp/vision_tranformer_baseline/statefarm/ray/ray_results/torch_mnist_asha/TrainMNIST_2024-10-19_16-31-40/TrainMNIST_dadcd_00014_14_lr=0.0467,momentum=0.6554_2024-10-19_16-31-40/checkpoint_000008)\u001b[32m [repeated 10x across cluster]\u001b[0m\n",
      "2024-10-19 16:32:32,439\tINFO tune.py:1009 -- Wrote the latest version of all result files and experiment state to '/home/sur06423/hiwi/vit_exp/vision_tranformer_baseline/statefarm/ray/ray_results/torch_mnist_asha/TrainMNIST_2024-10-19_16-31-40' in 0.1170s.\n",
      "2024-10-19 16:32:32,461\tINFO tune.py:1041 -- Total run time: 52.13 seconds (51.88 seconds for the tuning loop).\n"
     ]
    }
   ],
   "source": [
    "config={\n",
    "    \"lr\": tune.uniform(0.001, 0.1),\n",
    "    \"momentum\": tune.uniform(0.1, 0.9),\n",
    "}\n",
    "\n",
    "asha = tune.schedulers.AsyncHyperBandScheduler(\n",
    "    time_attr='training_iteration',\n",
    "    metric='mean_accuracy',\n",
    "    mode='max',\n",
    "    max_t=100,\n",
    "    grace_period=10,\n",
    "    reduction_factor=3,\n",
    "    brackets=3)\n",
    "\n",
    "analysis = tune.run(\n",
    "    TrainMNIST,\n",
    "    storage_path=\"/home/sur06423/hiwi/vit_exp/vision_tranformer_baseline/statefarm/ray/ray_results/torch_mnist_asha\",\n",
    "    resources_per_trial={\n",
    "        \"cpu\": 1,\n",
    "        \"gpu\": 0\n",
    "    },\n",
    "    num_samples=15,\n",
    "    checkpoint_at_end=True,\n",
    "    checkpoint_freq=10,\n",
    "    keep_checkpoints_num=3,\n",
    "    scheduler=asha,\n",
    "#     stop={\n",
    "#         \"mean_accuracy\": 0.95,\n",
    "#         \"training_iteration\": 100,\n",
    "#     },\n",
    "    config=config)"
   ]
  },
  {
   "cell_type": "code",
   "execution_count": 5,
   "metadata": {},
   "outputs": [
    {
     "name": "stdout",
     "output_type": "stream",
     "text": [
      "Best config is: {'lr': 0.06295256680585024, 'momentum': 0.4911820641460314}\n"
     ]
    }
   ],
   "source": [
    "print(\"Best config is:\", analysis.get_best_config(metric=\"mean_accuracy\", mode='max'))"
   ]
  },
  {
   "cell_type": "code",
   "execution_count": 9,
   "metadata": {},
   "outputs": [
    {
     "name": "stdout",
     "output_type": "stream",
     "text": [
      "The tensorboard extension is already loaded. To reload it, use:\n",
      "  %reload_ext tensorboard\n"
     ]
    }
   ],
   "source": [
    "%load_ext tensorboard\n",
    "# from tensorboard import notebook\n",
    "# %tensorboard --logdir \"/home/sur06423/hiwi/vit_exp/vision_tranformer_baseline/statefarm/ray/ray_results/torch_mnist_asha/TrainMNIST_2024-10-19_16-31-40\" --port=6007"
   ]
  },
  {
   "cell_type": "code",
   "execution_count": 10,
   "metadata": {},
   "outputs": [],
   "source": [
    "ray.shutdown()"
   ]
  },
  {
   "cell_type": "code",
   "execution_count": null,
   "metadata": {},
   "outputs": [],
   "source": []
  }
 ],
 "metadata": {
  "kernelspec": {
   "display_name": "vi_trans",
   "language": "python",
   "name": "python3"
  },
  "language_info": {
   "codemirror_mode": {
    "name": "ipython",
    "version": 3
   },
   "file_extension": ".py",
   "mimetype": "text/x-python",
   "name": "python",
   "nbconvert_exporter": "python",
   "pygments_lexer": "ipython3",
   "version": "3.10.12"
  }
 },
 "nbformat": 4,
 "nbformat_minor": 2
}
